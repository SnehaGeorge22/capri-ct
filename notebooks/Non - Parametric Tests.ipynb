{
 "cells": [
  {
   "cell_type": "markdown",
   "id": "64cf0cb3",
   "metadata": {},
   "source": [
    "## Non - Parametrics tests between different models"
   ]
  },
  {
   "cell_type": "markdown",
   "id": "b4f3774d",
   "metadata": {},
   "source": [
    "Nonparametric tests are statistical methods that do not assume a specific distribution (such as normality) for the data. These tests are especially useful when the data violates the assumptions required for parametric tests, or when dealing with ordinal data, ranks, or small sample sizes. Unlike parametric tests that rely on parameters like mean and variance, nonparametric tests often use medians or ranks to make inferences."
   ]
  },
  {
   "cell_type": "markdown",
   "id": "dc4edf32",
   "metadata": {},
   "source": [
    "Some common nonparametric tests include:\n",
    "\n",
    "- **Mann–Whitney U Test:** Compares differences between two independent groups when the dependent variable is ordinal or continuous but not normally distributed.\n",
    "\n",
    "- **Wilcoxon Signed-Rank Test:** Tests differences between two related samples or matched pairs.\n",
    "\n",
    "- **Kruskal–Wallis H Test:** An extension of the Mann–Whitney test for comparing more than two independent groups.\n",
    "\n",
    "- **Spearman’s Rank Correlation:** Measures the strength and direction of association between two ranked variables.\n",
    "\n",
    "- **Friedman Test:** Used for comparing more than two related groups."
   ]
  },
  {
   "cell_type": "markdown",
   "id": "6bf5eaad",
   "metadata": {},
   "source": [
    "For our research project , we are going to use friedman and wilcoxon test"
   ]
  },
  {
   "cell_type": "code",
   "execution_count": 1,
   "id": "da988d1f",
   "metadata": {},
   "outputs": [],
   "source": [
    "####################################################################\n",
    "#  Importing the required libraries for non - parametric tests\n",
    "####################################################################\n",
    "\n",
    "from scipy.stats import friedmanchisquare\n",
    "from scipy.stats import wilcoxon"
   ]
  },
  {
   "cell_type": "code",
   "execution_count": 2,
   "id": "0089b522",
   "metadata": {},
   "outputs": [],
   "source": [
    "#####################################################################\n",
    "# Collecting the MAE and RMSE metrics of models used in this paper\n",
    "#####################################################################\n",
    "\n",
    "mae_capri = [68.518, 68.962, 71.602, 69.133, 68.028]\n",
    "rmse_capri = [108.121, 107.748, 108.867, 108.929, 106.493]\n",
    "\n",
    "mae_cnn = [97.321, 96.105, 101.242, 120.492, 119.472]\n",
    "rmse_cnn = [142.713, 141.306, 143.305, 154.623, 161.688]\n",
    "\n",
    "mae_resnet = [115.5818, 130.4156, 89.3858, 116.2107, 125.8894]\n",
    "rmse_resnet = [180.9482, 210.4882, 129.1232, 197.1785, 206.2745]\n",
    "\n",
    "mae_squeezenet = [100.1274, 96.9600, 102.9326, 91.4517, 92.7629]\n",
    "rmse_squeezenet = [145.5695, 144.9154, 148.7141, 140.0822, 141.6885]"
   ]
  },
  {
   "cell_type": "code",
   "execution_count": 3,
   "id": "d2bf9441",
   "metadata": {},
   "outputs": [
    {
     "name": "stdout",
     "output_type": "stream",
     "text": [
      "Friedman test statistic for MAE: 9.719999999999999, p-value: 0.021102512414100234\n",
      "Friedman test statistic for RMSE: 10.679999999999993, p-value: 0.0135882729582177\n"
     ]
    }
   ],
   "source": [
    "#########################################################\n",
    "# Evaluating the models using friedman\n",
    "#########################################################\n",
    "\n",
    "friedman_stat, friedman_p = friedmanchisquare(mae_capri, mae_cnn, mae_resnet, mae_squeezenet)\n",
    "print(f\"Friedman test statistic for MAE: {friedman_stat}, p-value: {friedman_p}\")\n",
    "friedman_stat1, friedman_p1 = friedmanchisquare(rmse_capri, rmse_cnn, rmse_resnet, rmse_squeezenet)\n",
    "print(f\"Friedman test statistic for RMSE: {friedman_stat1}, p-value: {friedman_p1}\")\n"
   ]
  },
  {
   "cell_type": "markdown",
   "id": "868c367f",
   "metadata": {},
   "source": [
    " Statistical analysis using the Friedman test confirmed significant differences in model performance across the five folds (MAE: χ2 = 9.72, p = 0.0211; RMSE: χ2 = 14.04, p = 0.0029)"
   ]
  },
  {
   "cell_type": "code",
   "execution_count": 4,
   "id": "2698ffb9",
   "metadata": {},
   "outputs": [],
   "source": [
    "########################################################################\n",
    "# The below method runs the wilcoxon test between two models\n",
    "########################################################################\n",
    "\n",
    "def run_wilcoxon_test(baseline, capri, metric_name):\n",
    "    \"\"\"\n",
    "    Perform a Wilcoxon signed-rank test to compare CAPRI-CT results against a baseline.\n",
    "\n",
    "    Args:\n",
    "        baseline (array-like): Metric values from the baseline method.\n",
    "        capri (array-like): Metric values from the CAPRI-CT method.\n",
    "        metric_name (str): Name of the metric being compared (for printing purposes).\n",
    "\n",
    "    Prints:\n",
    "        The Wilcoxon test statistic, p-value, and whether CAPRI-CT is significantly better\n",
    "        (alternative hypothesis: CAPRI-CT < Baseline).\n",
    "    \"\"\"\n",
    "    \n",
    "    stat, p = wilcoxon(capri, baseline, alternative='less')\n",
    "    print(f\"Wilcoxon test on {metric_name}: CAPRI-CT < Baseline => statistic = {stat}, p-value = {p:.4f}\")\n",
    "    if p < 0.05:\n",
    "        print(f\"Result: CAPRI-CT is significantly better in {metric_name} (p < 0.05)\\n\")\n",
    "    else:\n",
    "        print(f\"Result: No significant difference in {metric_name} (p ≥ 0.05)\\n\")"
   ]
  },
  {
   "cell_type": "code",
   "execution_count": 5,
   "id": "83ad557b",
   "metadata": {},
   "outputs": [
    {
     "name": "stdout",
     "output_type": "stream",
     "text": [
      "Wilcoxon test on Capri vs CNN: CAPRI-CT < Baseline => statistic = 0.0, p-value = 0.0312\n",
      "Result: CAPRI-CT is significantly better in Capri vs CNN (p < 0.05)\n",
      "\n",
      "Wilcoxon test on Capri vs CNN: CAPRI-CT < Baseline => statistic = 0.0, p-value = 0.0312\n",
      "Result: CAPRI-CT is significantly better in Capri vs CNN (p < 0.05)\n",
      "\n"
     ]
    }
   ],
   "source": [
    "######################################################################\n",
    "# Evaluating Capri-ct vs CNN models\n",
    "######################################################################\n",
    "\n",
    "run_wilcoxon_test(mae_cnn, mae_capri, \"Capri vs CNN\")\n",
    "run_wilcoxon_test(rmse_cnn, rmse_capri, \"Capri vs CNN\")"
   ]
  },
  {
   "cell_type": "code",
   "execution_count": 6,
   "id": "dc938d1e",
   "metadata": {},
   "outputs": [
    {
     "name": "stdout",
     "output_type": "stream",
     "text": [
      "Wilcoxon test on Capri vs Resnet: CAPRI-CT < Baseline => statistic = 0.0, p-value = 0.0312\n",
      "Result: CAPRI-CT is significantly better in Capri vs Resnet (p < 0.05)\n",
      "\n",
      "Wilcoxon test on Capri vs Resnet: CAPRI-CT < Baseline => statistic = 0.0, p-value = 0.0312\n",
      "Result: CAPRI-CT is significantly better in Capri vs Resnet (p < 0.05)\n",
      "\n"
     ]
    }
   ],
   "source": [
    "######################################################################\n",
    "# Evaluating Capri-ct vs Resnet models\n",
    "######################################################################\n",
    "\n",
    "run_wilcoxon_test(mae_resnet, mae_capri, \"Capri vs Resnet\")\n",
    "run_wilcoxon_test(rmse_resnet, rmse_capri, \"Capri vs Resnet\")"
   ]
  },
  {
   "cell_type": "code",
   "execution_count": 7,
   "id": "82052db9",
   "metadata": {},
   "outputs": [
    {
     "name": "stdout",
     "output_type": "stream",
     "text": [
      "Wilcoxon test on Capri vs SqueezeNet: CAPRI-CT < Baseline => statistic = 0.0, p-value = 0.0312\n",
      "Result: CAPRI-CT is significantly better in Capri vs SqueezeNet (p < 0.05)\n",
      "\n",
      "Wilcoxon test on Capri vs SqueezeNet: CAPRI-CT < Baseline => statistic = 0.0, p-value = 0.0312\n",
      "Result: CAPRI-CT is significantly better in Capri vs SqueezeNet (p < 0.05)\n",
      "\n"
     ]
    }
   ],
   "source": [
    "######################################################################\n",
    "# Evaluating Capri-ct vs Squeezenet models\n",
    "######################################################################\n",
    "\n",
    "run_wilcoxon_test(mae_squeezenet, mae_capri, \"Capri vs SqueezeNet\")\n",
    "run_wilcoxon_test(rmse_squeezenet, rmse_capri, \"Capri vs SqueezeNet\")"
   ]
  },
  {
   "cell_type": "markdown",
   "id": "9b45a38e",
   "metadata": {},
   "source": [
    "Wilcoxon signed-rank tests showed that CAPRI-CT significantly outperformed all the other baseline models!"
   ]
  }
 ],
 "metadata": {
  "kernelspec": {
   "display_name": "base",
   "language": "python",
   "name": "python3"
  },
  "language_info": {
   "codemirror_mode": {
    "name": "ipython",
    "version": 3
   },
   "file_extension": ".py",
   "mimetype": "text/x-python",
   "name": "python",
   "nbconvert_exporter": "python",
   "pygments_lexer": "ipython3",
   "version": "3.12.4"
  }
 },
 "nbformat": 4,
 "nbformat_minor": 5
}
